{
 "cells": [
  {
   "cell_type": "code",
   "execution_count": 1,
   "metadata": {},
   "outputs": [],
   "source": [
    "import aihub"
   ]
  },
  {
   "cell_type": "code",
   "execution_count": 16,
   "metadata": {},
   "outputs": [],
   "source": [
    "from aihub.core.data.dataclient import dc\n",
    "from aihub.core.models.aihubmodel import AIModel\n",
    "from keras.layers import Input, Dense\n",
    "from keras.models import Model\n",
    "from aihub.core.data.dataclient import dc\n",
    "from aihub.core.data.dataclient import DenseDataset\n",
    "import matplotlib.pyplot as plt\n",
    "import numpy as np\n",
    "from keras.models import Sequential\n",
    "from keras.layers import Dense, Activation\n",
    "import keras\n",
    "\n",
    "class MLPMnist(AIModel):\n",
    "    model = None\n",
    "\n",
    "    def __init__(self):\n",
    "        self.meta['name']='mlp-keras-mnist'\n",
    "        self.meta['version'] = '1' #Must be generated automatically\n",
    "        self.meta['usage']['input_shape']=[784]\n",
    "\n",
    "    def build(self):\n",
    "        self.model = Sequential([\n",
    "            Dense(32, input_shape=(784,)),\n",
    "            Activation('relu'),\n",
    "            Dense(10),\n",
    "            Activation('softmax'),\n",
    "        ])\n",
    "        self.model.compile(optimizer='adam', loss='categorical_crossentropy', metrics=['accuracy'])\n",
    "        return self.model\n",
    "\n",
    "    def save(self):\n",
    "        raise NotImplementedError()\n",
    "    def load(self):\n",
    "        raise NotImplementedError()\n",
    "    def fit(self, ds, rebuild=True):\n",
    "        (xtr,ytr),(xt,yt) = ds.load_data()\n",
    "        if rebuild or self.model == None:\n",
    "            self.model = self.build()\n",
    "        ytr_ohe = keras.utils.to_categorical(ytr, num_classes=10)\n",
    "        self.model.fit(x=xtr, y=ytr_ohe, batch_size=128, epochs=10)\n",
    "        return self\n",
    "\n",
    "    def predict(self, x, batch_size=0):\n",
    "        return self.model.predict(x, batch_size)"
   ]
  },
  {
   "cell_type": "code",
   "execution_count": 17,
   "metadata": {},
   "outputs": [
    {
     "name": "stdout",
     "output_type": "stream",
     "text": [
      "Epoch 1/10\n",
      "60000/60000 [==============================] - 1s 15us/step - loss: 12.9011 - acc: 0.1990\n",
      "Epoch 2/10\n",
      "60000/60000 [==============================] - 1s 15us/step - loss: 9.5454 - acc: 0.4041\n",
      "Epoch 3/10\n",
      "60000/60000 [==============================] - 1s 14us/step - loss: 4.1599 - acc: 0.7376\n",
      "Epoch 4/10\n",
      "60000/60000 [==============================] - 1s 14us/step - loss: 3.9394 - acc: 0.7523\n",
      "Epoch 5/10\n",
      "60000/60000 [==============================] - 1s 14us/step - loss: 3.3070 - acc: 0.7904\n",
      "Epoch 6/10\n",
      "60000/60000 [==============================] - 1s 14us/step - loss: 2.8187 - acc: 0.8215\n",
      "Epoch 7/10\n",
      "60000/60000 [==============================] - 1s 14us/step - loss: 2.7177 - acc: 0.8280\n",
      "Epoch 8/10\n",
      "60000/60000 [==============================] - 1s 14us/step - loss: 2.5906 - acc: 0.8363\n",
      "Epoch 9/10\n",
      "60000/60000 [==============================] - 1s 14us/step - loss: 2.5504 - acc: 0.8390\n",
      "Epoch 10/10\n",
      "60000/60000 [==============================] - 1s 14us/step - loss: 2.5108 - acc: 0.8414\n"
     ]
    }
   ],
   "source": [
    "ds = DenseDataset(dc.get_dataset('keras', 'mnist'))\n",
    "m = MLPMnist().fit(ds)\n",
    "(xtr, ytr), (xt, yt) = ds.load_data()"
   ]
  },
  {
   "cell_type": "code",
   "execution_count": 18,
   "metadata": {},
   "outputs": [],
   "source": [
    "i = np.random.choice(len(xt))"
   ]
  },
  {
   "cell_type": "code",
   "execution_count": 19,
   "metadata": {},
   "outputs": [],
   "source": [
    "x = xt[i]"
   ]
  },
  {
   "cell_type": "code",
   "execution_count": 13,
   "metadata": {},
   "outputs": [
    {
     "name": "stdout",
     "output_type": "stream",
     "text": [
      "10000/10000 [==============================] - 0s 8us/step\n"
     ]
    }
   ],
   "source": [
    "score = m.model.evaluate(xt, keras.utils.to_categorical(yt, num_classes=10), batch_size=128)"
   ]
  },
  {
   "cell_type": "code",
   "execution_count": 23,
   "metadata": {},
   "outputs": [
    {
     "name": "stdout",
     "output_type": "stream",
     "text": [
      "(784,)\n"
     ]
    }
   ],
   "source": [
    "print(x.reshape(784,).shape)"
   ]
  },
  {
   "cell_type": "code",
   "execution_count": 31,
   "metadata": {},
   "outputs": [
    {
     "name": "stdout",
     "output_type": "stream",
     "text": [
      "7\n"
     ]
    },
    {
     "data": {
      "text/plain": [
       "Text(0.5,1,'Original')"
      ]
     },
     "execution_count": 31,
     "metadata": {},
     "output_type": "execute_result"
    },
    {
     "data": {
      "image/png": "[encoded data removed]",
      "text/plain": [
       "<matplotlib.figure.Figure at 0x7f01f02beb00>"
      ]
     },
     "metadata": {},
     "output_type": "display_data"
    }
   ],
   "source": [
    "y = m.predict([[x.reshape(784,)]],batch_size=1)\n",
    "print(np.argmax(y[0]))\n",
    "plt.subplot(1, 2, 1)\n",
    "plt.imshow(x.reshape(28, 28), cmap='gray')\n",
    "plt.title('Original')\n",
    "\n",
    "# plt.subplot(1, 2, 2)\n",
    "# plt.imshow(y.reshape(28, 28), cmap='gray')\n",
    "# plt.title('Reconstructed')\n",
    "#\n",
    "# plt.show()\n",
    "# (x_train, y_train), (x_test, y_test) = dc.get_dataset('keras','mnist')\n"
   ]
  },
  {
   "cell_type": "code",
   "execution_count": null,
   "metadata": {},
   "outputs": [],
   "source": []
  },
  {
   "cell_type": "code",
   "execution_count": null,
   "metadata": {},
   "outputs": [],
   "source": []
  }
 ],
 "metadata": {
  "kernelspec": {
   "display_name": "Python 3",
   "language": "python",
   "name": "python3"
  },
  "language_info": {
   "codemirror_mode": {
    "name": "ipython",
    "version": 3
   },
   "file_extension": ".py",
   "mimetype": "text/x-python",
   "name": "python",
   "nbconvert_exporter": "python",
   "pygments_lexer": "ipython3",
   "version": "3.6.4"
  }
 },
 "nbformat": 4,
 "nbformat_minor": 1
}
